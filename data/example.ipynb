{
 "cells": [
  {
   "cell_type": "code",
   "execution_count": null,
   "metadata": {},
   "outputs": [],
   "source": [
    "import iglu\n",
    "import pandas as pd\n",
    "\n",
    "# print(iglu.iglu.sd_roc)\n",
    "data = pd.read_csv('../data/example_data_1_subject.csv', index_col=0)\n",
    "\n",
    "print(iglu.above_percent(data))\n",
    "print(iglu.active_percent(data))\n",
    "# print(iglu.adrr(data))\n",
    "\n",
    "\n",
    "# print(iglu.iglu.sd_roc([1, 2, 3]))\n",
    "\n",
    "\n",
    "# try:\n",
    "#     iglu = importr('iglu')\n",
    "# except:\n",
    "#     utils = importr('utils')\n",
    "#     utils.install_packages('file://iglu_3.4.2.tgz', type = \"source\")\n",
    "#     iglu = importr('iglu')\n",
    "\n",
    "# print(iglu._exported_names)\n",
    "\n",
    "\n",
    "\n",
    "# import pandas as pd\n",
    "# csv = pd.read_csv('./data/example_data_1_subject.csv')\n",
    "\n",
    "\n",
    "\n",
    "# print(iglu.iqr_glu([1, 2, 3, 4, 5, 6, 7, 8, 9, 10]))\n",
    "\n"
   ]
  }
 ],
 "metadata": {
  "language_info": {
   "name": "python"
  },
  "orig_nbformat": 4
 },
 "nbformat": 4,
 "nbformat_minor": 2
}
